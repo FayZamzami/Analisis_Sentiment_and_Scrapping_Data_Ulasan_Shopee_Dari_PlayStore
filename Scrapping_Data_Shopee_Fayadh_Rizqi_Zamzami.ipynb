{
  "nbformat": 4,
  "nbformat_minor": 0,
  "metadata": {
    "colab": {
      "provenance": []
    },
    "kernelspec": {
      "name": "python3",
      "display_name": "Python 3"
    },
    "language_info": {
      "name": "python"
    }
  },
  "cells": [
    {
      "cell_type": "markdown",
      "source": [
        "# **Scraping Ulasan Aplikasi Shopee pada Google Play Store**\n",
        "Nama: Fayadh Rizqi Zamzami\n",
        "\n",
        "Cohort ID: MC858D5Y1383\n",
        "\n",
        "Kelas : MC-25"
      ],
      "metadata": {
        "id": "kS9T7KXtiebh"
      }
    },
    {
      "cell_type": "markdown",
      "source": [
        "# **Import Library**"
      ],
      "metadata": {
        "id": "7Av1YlX0txIf"
      }
    },
    {
      "cell_type": "code",
      "execution_count": 94,
      "metadata": {
        "id": "B6SifEFOnPxs",
        "colab": {
          "base_uri": "https://localhost:8080/"
        },
        "outputId": "ac7f5bea-da85-489b-ee29-a86ca37b319f"
      },
      "outputs": [
        {
          "output_type": "stream",
          "name": "stdout",
          "text": [
            "Requirement already satisfied: google-play-scraper in /usr/local/lib/python3.11/dist-packages (1.2.7)\n"
          ]
        }
      ],
      "source": [
        "!pip install google-play-scraper\n",
        "from google_play_scraper import app, reviews, Sort, reviews_all"
      ]
    },
    {
      "cell_type": "code",
      "source": [
        "import pandas as pd\n",
        "pd.options.mode.chained_assignment = None\n",
        "import numpy as np\n",
        "seed = 0\n",
        "np.random.seed(seed)\n",
        "import csv\n",
        "from google.colab import drive\n",
        "from google.colab import files"
      ],
      "metadata": {
        "id": "IQE6eBj8X0QG"
      },
      "execution_count": 95,
      "outputs": []
    },
    {
      "cell_type": "markdown",
      "source": [
        "# **LOAD DATASET**"
      ],
      "metadata": {
        "id": "gJXMZwfbifhS"
      }
    },
    {
      "cell_type": "code",
      "source": [
        "# Scraping Dataset Ulasan Aplikasi Shopee pada Google Play Store\n",
        "print(\"Memulai scraping ulasan aplikasi Shopee...\")\n",
        "scrapreview = reviews_all(\n",
        "    'com.shopee.id', #ID aplikasi Shopee\n",
        "    lang='id',\n",
        "    country='id',\n",
        "    sort=Sort.MOST_RELEVANT,\n",
        "    count=10000 #10000 ulasan yang diambil\n",
        ")\n",
        "print(f\"Scraping selesai. Berhasil mengumpulkan {len(scrapreview)} ulasan.\")\n"
      ],
      "metadata": {
        "colab": {
          "base_uri": "https://localhost:8080/"
        },
        "id": "7VxNeNVwtuNX",
        "outputId": "22f34ca0-6d8a-410c-d4c3-a98dcc3ca1c7"
      },
      "execution_count": 96,
      "outputs": [
        {
          "output_type": "stream",
          "name": "stdout",
          "text": [
            "Memulai scraping ulasan aplikasi Shopee...\n",
            "Scraping selesai. Berhasil mengumpulkan 166500 ulasan.\n"
          ]
        }
      ]
    },
    {
      "cell_type": "code",
      "source": [
        "# Membuat dataframe dari hasil scrapreview\n",
        "shopee_reviews_df = pd.DataFrame(scrapreview)\n"
      ],
      "metadata": {
        "id": "Ql-6ukt4gmAh"
      },
      "execution_count": 97,
      "outputs": []
    },
    {
      "cell_type": "code",
      "source": [
        "# Simpan dataset lengkap ke CSV (dengan semua kolom)\n",
        "shopee_reviews_df.to_csv('ulasan_aplikasi_shopee.csv', index=False)\n",
        "print(f\"Dataset lengkap disimpan ke ulasan_aplikasi_shopee.csv\")"
      ],
      "metadata": {
        "id": "IHyrnIMp2cfv",
        "colab": {
          "base_uri": "https://localhost:8080/"
        },
        "outputId": "6961f241-1757-44ed-dad0-c807bfb63f0b"
      },
      "execution_count": 101,
      "outputs": [
        {
          "output_type": "stream",
          "name": "stdout",
          "text": [
            "Dataset lengkap disimpan ke ulasan_aplikasi_shopee.csv\n"
          ]
        }
      ]
    },
    {
      "cell_type": "code",
      "source": [
        "# Menampilkan head dari dataframe\n",
        "shopee_reviews_df.head()"
      ],
      "metadata": {
        "id": "wrMsqZRpiWgt",
        "colab": {
          "base_uri": "https://localhost:8080/",
          "height": 293
        },
        "outputId": "f9370494-8303-41e8-b474-5d03fb88a71b"
      },
      "execution_count": 99,
      "outputs": [
        {
          "output_type": "execute_result",
          "data": {
            "text/plain": [
              "                               reviewId         userName  \\\n",
              "0  3eb0260c-4c79-4006-9838-60c8b32d6802  Pengguna Google   \n",
              "1  66ff3e08-dfc0-475a-afe0-8afc5dd5176e  Pengguna Google   \n",
              "2  9431a5a1-a6d7-4a8a-9e3e-b3f09a5704b2  Pengguna Google   \n",
              "3  1f7d7626-cc85-467e-b5a5-96853c5a5a7a  Pengguna Google   \n",
              "4  54df2b65-5871-472a-b37a-c2dd32bb35c8  Pengguna Google   \n",
              "\n",
              "                                           userImage  \\\n",
              "0  https://play-lh.googleusercontent.com/EGemoI2N...   \n",
              "1  https://play-lh.googleusercontent.com/EGemoI2N...   \n",
              "2  https://play-lh.googleusercontent.com/EGemoI2N...   \n",
              "3  https://play-lh.googleusercontent.com/EGemoI2N...   \n",
              "4  https://play-lh.googleusercontent.com/EGemoI2N...   \n",
              "\n",
              "                                             content  score  thumbsUpCount  \\\n",
              "0  kalo bisa paket² yg banyak di bagi atau di ali...      1            149   \n",
              "1  sorry, kenapa ya setiap membatalkan pesanan/di...      1             13   \n",
              "2  Edit: Aplikasi sudah terbaru di v3.47.39. user...      2             66   \n",
              "3  Tolong shopee tulisannya jangan terlalu kecil ...      2             31   \n",
              "4  tolong jika status pesanan sudah \"Dalam pengan...      5            733   \n",
              "\n",
              "  reviewCreatedVersion                  at  \\\n",
              "0              3.47.39 2025-04-08 07:44:17   \n",
              "1              3.47.39 2025-04-09 17:17:09   \n",
              "2              3.47.39 2025-04-07 17:31:41   \n",
              "3              3.47.39 2025-04-07 18:29:20   \n",
              "4              3.47.39 2025-04-07 04:32:26   \n",
              "\n",
              "                                        replyContent           repliedAt  \\\n",
              "0  Hi kak Fardeanto Palapa , maaf ya sudah buat k... 2025-04-08 08:27:09   \n",
              "1  Hai kak patimura, maaf ya trkait pmbayaran COD... 2025-04-09 18:24:58   \n",
              "2  Hai kak maaf udh bikin ga nyaman terkait kenda... 2025-04-07 17:09:59   \n",
              "3  Hai kak maaf udh bikin ga nyaman terkait kenda... 2025-04-07 19:25:40   \n",
              "4  Hai kak Dide Naufal, maaf ya buat kamu gak nya... 2025-04-07 05:20:14   \n",
              "\n",
              "  appVersion  \n",
              "0    3.47.39  \n",
              "1    3.47.39  \n",
              "2    3.47.39  \n",
              "3    3.47.39  \n",
              "4    3.47.39  "
            ],
            "text/html": [
              "\n",
              "  <div id=\"df-9a768683-e075-4a04-b55b-10e902be581b\" class=\"colab-df-container\">\n",
              "    <div>\n",
              "<style scoped>\n",
              "    .dataframe tbody tr th:only-of-type {\n",
              "        vertical-align: middle;\n",
              "    }\n",
              "\n",
              "    .dataframe tbody tr th {\n",
              "        vertical-align: top;\n",
              "    }\n",
              "\n",
              "    .dataframe thead th {\n",
              "        text-align: right;\n",
              "    }\n",
              "</style>\n",
              "<table border=\"1\" class=\"dataframe\">\n",
              "  <thead>\n",
              "    <tr style=\"text-align: right;\">\n",
              "      <th></th>\n",
              "      <th>reviewId</th>\n",
              "      <th>userName</th>\n",
              "      <th>userImage</th>\n",
              "      <th>content</th>\n",
              "      <th>score</th>\n",
              "      <th>thumbsUpCount</th>\n",
              "      <th>reviewCreatedVersion</th>\n",
              "      <th>at</th>\n",
              "      <th>replyContent</th>\n",
              "      <th>repliedAt</th>\n",
              "      <th>appVersion</th>\n",
              "    </tr>\n",
              "  </thead>\n",
              "  <tbody>\n",
              "    <tr>\n",
              "      <th>0</th>\n",
              "      <td>3eb0260c-4c79-4006-9838-60c8b32d6802</td>\n",
              "      <td>Pengguna Google</td>\n",
              "      <td>https://play-lh.googleusercontent.com/EGemoI2N...</td>\n",
              "      <td>kalo bisa paket² yg banyak di bagi atau di ali...</td>\n",
              "      <td>1</td>\n",
              "      <td>149</td>\n",
              "      <td>3.47.39</td>\n",
              "      <td>2025-04-08 07:44:17</td>\n",
              "      <td>Hi kak Fardeanto Palapa , maaf ya sudah buat k...</td>\n",
              "      <td>2025-04-08 08:27:09</td>\n",
              "      <td>3.47.39</td>\n",
              "    </tr>\n",
              "    <tr>\n",
              "      <th>1</th>\n",
              "      <td>66ff3e08-dfc0-475a-afe0-8afc5dd5176e</td>\n",
              "      <td>Pengguna Google</td>\n",
              "      <td>https://play-lh.googleusercontent.com/EGemoI2N...</td>\n",
              "      <td>sorry, kenapa ya setiap membatalkan pesanan/di...</td>\n",
              "      <td>1</td>\n",
              "      <td>13</td>\n",
              "      <td>3.47.39</td>\n",
              "      <td>2025-04-09 17:17:09</td>\n",
              "      <td>Hai kak patimura, maaf ya trkait pmbayaran COD...</td>\n",
              "      <td>2025-04-09 18:24:58</td>\n",
              "      <td>3.47.39</td>\n",
              "    </tr>\n",
              "    <tr>\n",
              "      <th>2</th>\n",
              "      <td>9431a5a1-a6d7-4a8a-9e3e-b3f09a5704b2</td>\n",
              "      <td>Pengguna Google</td>\n",
              "      <td>https://play-lh.googleusercontent.com/EGemoI2N...</td>\n",
              "      <td>Edit: Aplikasi sudah terbaru di v3.47.39. user...</td>\n",
              "      <td>2</td>\n",
              "      <td>66</td>\n",
              "      <td>3.47.39</td>\n",
              "      <td>2025-04-07 17:31:41</td>\n",
              "      <td>Hai kak maaf udh bikin ga nyaman terkait kenda...</td>\n",
              "      <td>2025-04-07 17:09:59</td>\n",
              "      <td>3.47.39</td>\n",
              "    </tr>\n",
              "    <tr>\n",
              "      <th>3</th>\n",
              "      <td>1f7d7626-cc85-467e-b5a5-96853c5a5a7a</td>\n",
              "      <td>Pengguna Google</td>\n",
              "      <td>https://play-lh.googleusercontent.com/EGemoI2N...</td>\n",
              "      <td>Tolong shopee tulisannya jangan terlalu kecil ...</td>\n",
              "      <td>2</td>\n",
              "      <td>31</td>\n",
              "      <td>3.47.39</td>\n",
              "      <td>2025-04-07 18:29:20</td>\n",
              "      <td>Hai kak maaf udh bikin ga nyaman terkait kenda...</td>\n",
              "      <td>2025-04-07 19:25:40</td>\n",
              "      <td>3.47.39</td>\n",
              "    </tr>\n",
              "    <tr>\n",
              "      <th>4</th>\n",
              "      <td>54df2b65-5871-472a-b37a-c2dd32bb35c8</td>\n",
              "      <td>Pengguna Google</td>\n",
              "      <td>https://play-lh.googleusercontent.com/EGemoI2N...</td>\n",
              "      <td>tolong jika status pesanan sudah \"Dalam pengan...</td>\n",
              "      <td>5</td>\n",
              "      <td>733</td>\n",
              "      <td>3.47.39</td>\n",
              "      <td>2025-04-07 04:32:26</td>\n",
              "      <td>Hai kak Dide Naufal, maaf ya buat kamu gak nya...</td>\n",
              "      <td>2025-04-07 05:20:14</td>\n",
              "      <td>3.47.39</td>\n",
              "    </tr>\n",
              "  </tbody>\n",
              "</table>\n",
              "</div>\n",
              "    <div class=\"colab-df-buttons\">\n",
              "\n",
              "  <div class=\"colab-df-container\">\n",
              "    <button class=\"colab-df-convert\" onclick=\"convertToInteractive('df-9a768683-e075-4a04-b55b-10e902be581b')\"\n",
              "            title=\"Convert this dataframe to an interactive table.\"\n",
              "            style=\"display:none;\">\n",
              "\n",
              "  <svg xmlns=\"http://www.w3.org/2000/svg\" height=\"24px\" viewBox=\"0 -960 960 960\">\n",
              "    <path d=\"M120-120v-720h720v720H120Zm60-500h600v-160H180v160Zm220 220h160v-160H400v160Zm0 220h160v-160H400v160ZM180-400h160v-160H180v160Zm440 0h160v-160H620v160ZM180-180h160v-160H180v160Zm440 0h160v-160H620v160Z\"/>\n",
              "  </svg>\n",
              "    </button>\n",
              "\n",
              "  <style>\n",
              "    .colab-df-container {\n",
              "      display:flex;\n",
              "      gap: 12px;\n",
              "    }\n",
              "\n",
              "    .colab-df-convert {\n",
              "      background-color: #E8F0FE;\n",
              "      border: none;\n",
              "      border-radius: 50%;\n",
              "      cursor: pointer;\n",
              "      display: none;\n",
              "      fill: #1967D2;\n",
              "      height: 32px;\n",
              "      padding: 0 0 0 0;\n",
              "      width: 32px;\n",
              "    }\n",
              "\n",
              "    .colab-df-convert:hover {\n",
              "      background-color: #E2EBFA;\n",
              "      box-shadow: 0px 1px 2px rgba(60, 64, 67, 0.3), 0px 1px 3px 1px rgba(60, 64, 67, 0.15);\n",
              "      fill: #174EA6;\n",
              "    }\n",
              "\n",
              "    .colab-df-buttons div {\n",
              "      margin-bottom: 4px;\n",
              "    }\n",
              "\n",
              "    [theme=dark] .colab-df-convert {\n",
              "      background-color: #3B4455;\n",
              "      fill: #D2E3FC;\n",
              "    }\n",
              "\n",
              "    [theme=dark] .colab-df-convert:hover {\n",
              "      background-color: #434B5C;\n",
              "      box-shadow: 0px 1px 3px 1px rgba(0, 0, 0, 0.15);\n",
              "      filter: drop-shadow(0px 1px 2px rgba(0, 0, 0, 0.3));\n",
              "      fill: #FFFFFF;\n",
              "    }\n",
              "  </style>\n",
              "\n",
              "    <script>\n",
              "      const buttonEl =\n",
              "        document.querySelector('#df-9a768683-e075-4a04-b55b-10e902be581b button.colab-df-convert');\n",
              "      buttonEl.style.display =\n",
              "        google.colab.kernel.accessAllowed ? 'block' : 'none';\n",
              "\n",
              "      async function convertToInteractive(key) {\n",
              "        const element = document.querySelector('#df-9a768683-e075-4a04-b55b-10e902be581b');\n",
              "        const dataTable =\n",
              "          await google.colab.kernel.invokeFunction('convertToInteractive',\n",
              "                                                    [key], {});\n",
              "        if (!dataTable) return;\n",
              "\n",
              "        const docLinkHtml = 'Like what you see? Visit the ' +\n",
              "          '<a target=\"_blank\" href=https://colab.research.google.com/notebooks/data_table.ipynb>data table notebook</a>'\n",
              "          + ' to learn more about interactive tables.';\n",
              "        element.innerHTML = '';\n",
              "        dataTable['output_type'] = 'display_data';\n",
              "        await google.colab.output.renderOutput(dataTable, element);\n",
              "        const docLink = document.createElement('div');\n",
              "        docLink.innerHTML = docLinkHtml;\n",
              "        element.appendChild(docLink);\n",
              "      }\n",
              "    </script>\n",
              "  </div>\n",
              "\n",
              "\n",
              "<div id=\"df-c9e2ff7e-17c2-4afe-afc2-5d2c886d4435\">\n",
              "  <button class=\"colab-df-quickchart\" onclick=\"quickchart('df-c9e2ff7e-17c2-4afe-afc2-5d2c886d4435')\"\n",
              "            title=\"Suggest charts\"\n",
              "            style=\"display:none;\">\n",
              "\n",
              "<svg xmlns=\"http://www.w3.org/2000/svg\" height=\"24px\"viewBox=\"0 0 24 24\"\n",
              "     width=\"24px\">\n",
              "    <g>\n",
              "        <path d=\"M19 3H5c-1.1 0-2 .9-2 2v14c0 1.1.9 2 2 2h14c1.1 0 2-.9 2-2V5c0-1.1-.9-2-2-2zM9 17H7v-7h2v7zm4 0h-2V7h2v10zm4 0h-2v-4h2v4z\"/>\n",
              "    </g>\n",
              "</svg>\n",
              "  </button>\n",
              "\n",
              "<style>\n",
              "  .colab-df-quickchart {\n",
              "      --bg-color: #E8F0FE;\n",
              "      --fill-color: #1967D2;\n",
              "      --hover-bg-color: #E2EBFA;\n",
              "      --hover-fill-color: #174EA6;\n",
              "      --disabled-fill-color: #AAA;\n",
              "      --disabled-bg-color: #DDD;\n",
              "  }\n",
              "\n",
              "  [theme=dark] .colab-df-quickchart {\n",
              "      --bg-color: #3B4455;\n",
              "      --fill-color: #D2E3FC;\n",
              "      --hover-bg-color: #434B5C;\n",
              "      --hover-fill-color: #FFFFFF;\n",
              "      --disabled-bg-color: #3B4455;\n",
              "      --disabled-fill-color: #666;\n",
              "  }\n",
              "\n",
              "  .colab-df-quickchart {\n",
              "    background-color: var(--bg-color);\n",
              "    border: none;\n",
              "    border-radius: 50%;\n",
              "    cursor: pointer;\n",
              "    display: none;\n",
              "    fill: var(--fill-color);\n",
              "    height: 32px;\n",
              "    padding: 0;\n",
              "    width: 32px;\n",
              "  }\n",
              "\n",
              "  .colab-df-quickchart:hover {\n",
              "    background-color: var(--hover-bg-color);\n",
              "    box-shadow: 0 1px 2px rgba(60, 64, 67, 0.3), 0 1px 3px 1px rgba(60, 64, 67, 0.15);\n",
              "    fill: var(--button-hover-fill-color);\n",
              "  }\n",
              "\n",
              "  .colab-df-quickchart-complete:disabled,\n",
              "  .colab-df-quickchart-complete:disabled:hover {\n",
              "    background-color: var(--disabled-bg-color);\n",
              "    fill: var(--disabled-fill-color);\n",
              "    box-shadow: none;\n",
              "  }\n",
              "\n",
              "  .colab-df-spinner {\n",
              "    border: 2px solid var(--fill-color);\n",
              "    border-color: transparent;\n",
              "    border-bottom-color: var(--fill-color);\n",
              "    animation:\n",
              "      spin 1s steps(1) infinite;\n",
              "  }\n",
              "\n",
              "  @keyframes spin {\n",
              "    0% {\n",
              "      border-color: transparent;\n",
              "      border-bottom-color: var(--fill-color);\n",
              "      border-left-color: var(--fill-color);\n",
              "    }\n",
              "    20% {\n",
              "      border-color: transparent;\n",
              "      border-left-color: var(--fill-color);\n",
              "      border-top-color: var(--fill-color);\n",
              "    }\n",
              "    30% {\n",
              "      border-color: transparent;\n",
              "      border-left-color: var(--fill-color);\n",
              "      border-top-color: var(--fill-color);\n",
              "      border-right-color: var(--fill-color);\n",
              "    }\n",
              "    40% {\n",
              "      border-color: transparent;\n",
              "      border-right-color: var(--fill-color);\n",
              "      border-top-color: var(--fill-color);\n",
              "    }\n",
              "    60% {\n",
              "      border-color: transparent;\n",
              "      border-right-color: var(--fill-color);\n",
              "    }\n",
              "    80% {\n",
              "      border-color: transparent;\n",
              "      border-right-color: var(--fill-color);\n",
              "      border-bottom-color: var(--fill-color);\n",
              "    }\n",
              "    90% {\n",
              "      border-color: transparent;\n",
              "      border-bottom-color: var(--fill-color);\n",
              "    }\n",
              "  }\n",
              "</style>\n",
              "\n",
              "  <script>\n",
              "    async function quickchart(key) {\n",
              "      const quickchartButtonEl =\n",
              "        document.querySelector('#' + key + ' button');\n",
              "      quickchartButtonEl.disabled = true;  // To prevent multiple clicks.\n",
              "      quickchartButtonEl.classList.add('colab-df-spinner');\n",
              "      try {\n",
              "        const charts = await google.colab.kernel.invokeFunction(\n",
              "            'suggestCharts', [key], {});\n",
              "      } catch (error) {\n",
              "        console.error('Error during call to suggestCharts:', error);\n",
              "      }\n",
              "      quickchartButtonEl.classList.remove('colab-df-spinner');\n",
              "      quickchartButtonEl.classList.add('colab-df-quickchart-complete');\n",
              "    }\n",
              "    (() => {\n",
              "      let quickchartButtonEl =\n",
              "        document.querySelector('#df-c9e2ff7e-17c2-4afe-afc2-5d2c886d4435 button');\n",
              "      quickchartButtonEl.style.display =\n",
              "        google.colab.kernel.accessAllowed ? 'block' : 'none';\n",
              "    })();\n",
              "  </script>\n",
              "</div>\n",
              "\n",
              "    </div>\n",
              "  </div>\n"
            ],
            "application/vnd.google.colaboratory.intrinsic+json": {
              "type": "dataframe",
              "variable_name": "shopee_reviews_df"
            }
          },
          "metadata": {},
          "execution_count": 99
        }
      ]
    },
    {
      "cell_type": "code",
      "source": [
        "# Menampilkan informasi dataframe\n",
        "shopee_reviews_df.info()"
      ],
      "metadata": {
        "id": "pzCbgZMuiZZo",
        "colab": {
          "base_uri": "https://localhost:8080/"
        },
        "outputId": "e3e3e593-5bf9-4874-fb64-ad4fd1e23869"
      },
      "execution_count": 100,
      "outputs": [
        {
          "output_type": "stream",
          "name": "stdout",
          "text": [
            "<class 'pandas.core.frame.DataFrame'>\n",
            "RangeIndex: 166500 entries, 0 to 166499\n",
            "Data columns (total 11 columns):\n",
            " #   Column                Non-Null Count   Dtype         \n",
            "---  ------                --------------   -----         \n",
            " 0   reviewId              166500 non-null  object        \n",
            " 1   userName              166500 non-null  object        \n",
            " 2   userImage             166500 non-null  object        \n",
            " 3   content               166500 non-null  object        \n",
            " 4   score                 166500 non-null  int64         \n",
            " 5   thumbsUpCount         166500 non-null  int64         \n",
            " 6   reviewCreatedVersion  140187 non-null  object        \n",
            " 7   at                    166500 non-null  datetime64[ns]\n",
            " 8   replyContent          115506 non-null  object        \n",
            " 9   repliedAt             115506 non-null  datetime64[ns]\n",
            " 10  appVersion            140187 non-null  object        \n",
            "dtypes: datetime64[ns](2), int64(2), object(7)\n",
            "memory usage: 14.0+ MB\n"
          ]
        }
      ]
    }
  ]
}